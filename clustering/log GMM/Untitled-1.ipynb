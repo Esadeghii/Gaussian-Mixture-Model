{
 "cells": [
  {
   "cell_type": "code",
   "execution_count": 2,
   "metadata": {},
   "outputs": [
    {
     "name": "stdout",
     "output_type": "stream",
     "text": [
      "Minimum value in the upper triangle: 0\n",
      "Maximum value in the upper triangle: 31.29343776678824\n"
     ]
    }
   ],
   "source": [
    "import openpyxl\n",
    "\n",
    "# Function to read the matrix from an Excel file and find min and max values in the upper triangle\n",
    "def find_min_max_in_upper_triangle(file_path):\n",
    "    # Load the Excel workbook\n",
    "    workbook = openpyxl.load_workbook(file_path)\n",
    "    \n",
    "    # Assuming that the matrix is in the first sheet (you can change this if needed)\n",
    "    sheet = workbook.active\n",
    "    \n",
    "    # Get the number of rows and columns in the matrix\n",
    "    n = sheet.max_row\n",
    "    \n",
    "    # Initialize min and max values\n",
    "    min_value = float('inf')\n",
    "    max_value = float('-inf')\n",
    "    \n",
    "    # Loop through the upper triangle of the matrix\n",
    "    for i in range(1, n):\n",
    "        for j in range(i + 1, n + 1):\n",
    "            cell_value = sheet.cell(row=i, column=j).value\n",
    "            if cell_value is not None:\n",
    "                min_value = min(min_value, cell_value)\n",
    "                max_value = max(max_value, cell_value)\n",
    "    \n",
    "    return min_value, max_value\n",
    "\n",
    "# Example usage:\n",
    "file_path = 'log.xlsx'  # Replace with the path to your Excel file\n",
    "min_val, max_val = find_min_max_in_upper_triangle(file_path)\n",
    "print(f\"Minimum value in the upper triangle: {min_val}\")\n",
    "print(f\"Maximum value in the upper triangle: {max_val}\")\n"
   ]
  }
 ],
 "metadata": {
  "kernelspec": {
   "display_name": "Python 3",
   "language": "python",
   "name": "python3"
  },
  "language_info": {
   "codemirror_mode": {
    "name": "ipython",
    "version": 3
   },
   "file_extension": ".py",
   "mimetype": "text/x-python",
   "name": "python",
   "nbconvert_exporter": "python",
   "pygments_lexer": "ipython3",
   "version": "3.10.0"
  }
 },
 "nbformat": 4,
 "nbformat_minor": 2
}
