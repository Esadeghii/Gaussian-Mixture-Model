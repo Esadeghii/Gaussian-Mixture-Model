{
 "cells": [
  {
   "cell_type": "code",
   "execution_count": 12,
   "metadata": {},
   "outputs": [
    {
     "name": "stdout",
     "output_type": "stream",
     "text": [
      "Correlation of whole matrices: -0.15384615384615377\n",
      "Correlation of upper triangle elements: -0.9999999999999999\n",
      "Correlation of whole matrices_n: 0.0019001628073668556\n",
      "Correlation of upper triangle elements_n: 0.00015119709756547395\n"
     ]
    }
   ],
   "source": [
    "import numpy as np\n",
    "\n",
    "def create_matrix(n):\n",
    "    matrix = np.abs(np.random.randn(n, n))\n",
    "    np.fill_diagonal(matrix, 0)\n",
    "    matrix = (matrix + matrix.T) / 2\n",
    "    return matrix\n",
    "\n",
    "\n",
    "matrix1 = np.array([\n",
    "    [0, 1, 2, 3, 4],\n",
    "    [1, 0, 5, 6, 7],\n",
    "    [2, 5, 0, 8, 9],\n",
    "    [3, 6, 8, 0, 10],\n",
    "    [4, 7, 9, 10, 0]\n",
    "])\n",
    "\n",
    "matrix2 = np.array([\n",
    "    [0, 10, 9, 8, 7],\n",
    "    [10, 0, 6, 5, 4],\n",
    "    [9, 6, 0, 3, 2],\n",
    "    [8, 5, 3, 0, 1],\n",
    "    [7, 4, 2, 1, 0]\n",
    "])\n",
    "\n",
    "\n",
    "def compute_correlation_whole(matrix1, matrix2):\n",
    "    return np.corrcoef(matrix1.flatten(), matrix2.flatten())[0, 1]\n",
    "\n",
    "\n",
    "def compute_correlation_upper_tri(matrix1, matrix2):\n",
    "    upper_tri1 = matrix1[np.triu_indices_from(matrix1, k=1)]\n",
    "    upper_tri2 = matrix2[np.triu_indices_from(matrix2, k=1)]\n",
    "    return np.corrcoef(upper_tri1, upper_tri2)[0, 1]\n",
    "\n",
    "\n",
    "correlation_whole = compute_correlation_whole(matrix1, matrix2)\n",
    "correlation_upper_tri = compute_correlation_upper_tri(matrix1, matrix2)\n",
    "\n",
    "\n",
    "n = 2000\n",
    "matrix3 = create_matrix(n)\n",
    "matrix4 = create_matrix(n)\n",
    "correlation_whole_n = compute_correlation_whole(matrix3, matrix4)\n",
    "correlation_upper_tri_n = compute_correlation_upper_tri(matrix3, matrix4)\n",
    "\n",
    "print(f\"Correlation of whole matrices: {correlation_whole}\")\n",
    "print(f\"Correlation of upper triangle elements: {correlation_upper_tri}\")\n",
    "\n",
    "print(f\"Correlation of whole matrices_n: {correlation_whole_n}\")\n",
    "print(f\"Correlation of upper triangle elements_n: {correlation_upper_tri_n}\")\n",
    "\n"
   ]
  },
  {
   "cell_type": "code",
   "execution_count": 20,
   "metadata": {},
   "outputs": [
    {
     "name": "stdout",
     "output_type": "stream",
     "text": [
      "Correlation of whole matrices_n: 0.003014662718391202\n",
      "Correlation of upper triangle elements_n: 2.1646951671270426e-05\n"
     ]
    }
   ],
   "source": [
    "import numpy as np\n",
    "\n",
    "def create_matrix(n):\n",
    "    matrix = 10 * np.random.rand(n, n)\n",
    "    np.fill_diagonal(matrix, 0)\n",
    "    matrix = (matrix + matrix.T) / 2\n",
    "    \n",
    "    return matrix\n",
    "\n",
    "\n",
    "def compute_correlation_whole(matrix1, matrix2):\n",
    "    return np.corrcoef(matrix1.flatten(), matrix2.flatten())[0, 1]\n",
    "\n",
    "\n",
    "def compute_correlation_upper_tri(matrix1, matrix2):\n",
    "    upper_tri1 = matrix1[np.triu_indices_from(matrix1, k=1)]\n",
    "    upper_tri2 = matrix2[np.triu_indices_from(matrix2, k=1)]\n",
    "    return np.corrcoef(upper_tri1, upper_tri2)[0, 1]\n",
    "\n",
    "\n",
    "n = 2000\n",
    "matrix3 = create_matrix(n)\n",
    "matrix4 = create_matrix(n)\n",
    "correlation_whole_n = compute_correlation_whole(matrix3, matrix4)\n",
    "correlation_upper_tri_n = compute_correlation_upper_tri(matrix3, matrix4)\n",
    "\n",
    "\n",
    "print(f\"Correlation of whole matrices_n: {correlation_whole_n}\")\n",
    "print(f\"Correlation of upper triangle elements_n: {correlation_upper_tri_n}\")\n"
   ]
  }
 ],
 "metadata": {
  "kernelspec": {
   "display_name": "Python 3",
   "language": "python",
   "name": "python3"
  },
  "language_info": {
   "codemirror_mode": {
    "name": "ipython",
    "version": 3
   },
   "file_extension": ".py",
   "mimetype": "text/x-python",
   "name": "python",
   "nbconvert_exporter": "python",
   "pygments_lexer": "ipython3",
   "version": "3.10.0"
  }
 },
 "nbformat": 4,
 "nbformat_minor": 2
}
