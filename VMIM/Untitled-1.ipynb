{
 "cells": [
  {
   "cell_type": "code",
   "execution_count": null,
   "metadata": {},
   "outputs": [],
   "source": [
    "import pandas as pd\n",
    "\n",
    "def preprocess_data(file_path, save_path):\n",
    "    # Read the CSV file\n",
    "    df = pd.read_csv(file_path)\n",
    "    \n",
    "    # Select the specific columns (assuming 'dis' columns are from 'dis 0' to 'dis 63')\n",
    "    selected_columns = [f'dis {i}' for i in range(64)]\n",
    "    df = df[selected_columns]\n",
    "    \n",
    "    # Apply min-max normalization per row\n",
    "    df_normalized = df.apply(lambda row: (row - row.min()) / (row.max() - row.min()), axis=1)\n",
    "    \n",
    "    # Save the preprocessed data to a new CSV file\n",
    "    df_normalized.to_csv(save_path, index=False)\n",
    "    print(f\"Preprocessed data saved to {save_path}\")\n",
    "\n",
    "# Example usage:\n",
    "input_file_path = 'seq_with_dis.csv'\n",
    "output_file_path = 'seq_with_dis_normalized.csv'\n",
    "\n",
    "preprocess_data(input_file_path, output_file_path)\n"
   ]
  }
 ],
 "metadata": {
  "language_info": {
   "name": "python"
  }
 },
 "nbformat": 4,
 "nbformat_minor": 2
}
