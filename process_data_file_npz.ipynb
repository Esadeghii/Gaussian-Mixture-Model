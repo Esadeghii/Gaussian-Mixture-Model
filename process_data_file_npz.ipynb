{
 "cells": [
  {
   "cell_type": "code",
   "execution_count": 9,
   "id": "1e5e3348",
   "metadata": {},
   "outputs": [],
   "source": [
    "from matplotlib.pyplot import axis\n",
    "import torch\n",
    "import numpy as np\n",
    "import pandas as pd\n",
    "from sequenceModel import SequenceModel\n",
    "import sequenceDataset as sd\n",
    "import time\n",
    "import os\n",
    "import sys\n",
    "import json\n",
    "import filter_sampled_sequences as filt\n",
    "\n",
    "def process_data_file(path_to_dataset: str, sequence_length=10, prepended_name=\"processed\", path_to_put=None, return_path=False):\n",
    "    \"\"\"Takes in a filepath to desired dataset and the sequence length of the sequences for that dataset,\n",
    "    saves .npz file with arrays for one hot encoded sequences, array of wavelengths and array of local\n",
    "    integrated intensities\"\"\"\n",
    "    data = sd.SequenceDataset(path_to_dataset, sequence_length)\n",
    "    ohe_sequences = data.transform_sequences(data.dataset['Sequence'].apply(lambda x: pd.Series([c for c in x])).\n",
    "                                             to_numpy())  #One hot encodings in the form ['A', 'C', 'G', 'T']\n",
    "    # Wavelen = np.array(data.dataset['Wavelen'])\n",
    "    # LII = np.array(data.dataset['LII'])\n",
    "    labels = np.array(data.dataset['Label'])\n",
    "\n",
    "    if path_to_put is not None:\n",
    "        file_path = f\"{path_to_put}/{prepended_name}-{time.time()}.npz\"\n",
    "    else:\n",
    "        file_path = f\"./data-for-sampling/processed-data-files/{prepended_name}-{time.time()}.npz\"\n",
    "\n",
    "    # np.savez(file_path, Wavelen=Wavelen, LII=LII,ohe=ohe_sequences)\n",
    "    np.savez(file_path, Labels = labels,ohe=ohe_sequences)\n",
    "    if return_path:\n",
    "        return file_path"
   ]
  },
  {
   "cell_type": "code",
   "execution_count": 10,
   "id": "ec93713c",
   "metadata": {},
   "outputs": [],
   "source": [
    "#process_data_file(path_to_dataset='C:/Users/Tiba_Rayaneh/Documents/NN-seq-gen-post-paper-state-2-11-22/pytorchModel/VAE/data-and-cleaning/cleandata.csv')\n",
    "process_data_file(path_to_dataset='./data-and-cleaning/supercleanGMMFilteredClusterd.xlsx')"
   ]
  },
  {
   "cell_type": "code",
   "execution_count": null,
   "id": "6263c722",
   "metadata": {},
   "outputs": [],
   "source": []
  }
 ],
 "metadata": {
  "kernelspec": {
   "display_name": "Python 3",
   "language": "python",
   "name": "python3"
  },
  "language_info": {
   "codemirror_mode": {
    "name": "ipython",
    "version": 3
   },
   "file_extension": ".py",
   "mimetype": "text/x-python",
   "name": "python",
   "nbconvert_exporter": "python",
   "pygments_lexer": "ipython3",
   "version": "3.10.0"
  }
 },
 "nbformat": 4,
 "nbformat_minor": 5
}
