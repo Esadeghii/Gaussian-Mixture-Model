{
 "cells": [
  {
   "cell_type": "code",
   "execution_count": 1,
   "metadata": {},
   "outputs": [],
   "source": [
    "import pandas as pd\n",
    "import numpy as np\n",
    "\n",
    "def min_max_normalize(data):\n",
    "    return (data - np.min(data)) / (np.max(data) - np.min(data))\n",
    "\n",
    "# Load the Excel file\n",
    "file_path = 'test.xlsx'  # Replace with your file path\n",
    "df = pd.read_excel(file_path, header=None)  # Assuming no header in the file\n",
    "\n",
    "# Apply min-max normalization\n",
    "normalized_df = df.apply(min_max_normalize)\n",
    "\n",
    "# Save to a new Excel file\n",
    "normalized_file_path = 'normalized_file.xlsx'  # Replace with desired new file path\n",
    "normalized_df.to_excel(normalized_file_path, index=False, header=None)\n"
   ]
  }
 ],
 "metadata": {
  "kernelspec": {
   "display_name": "Python 3",
   "language": "python",
   "name": "python3"
  },
  "language_info": {
   "codemirror_mode": {
    "name": "ipython",
    "version": 3
   },
   "file_extension": ".py",
   "mimetype": "text/x-python",
   "name": "python",
   "nbconvert_exporter": "python",
   "pygments_lexer": "ipython3",
   "version": "3.10.0"
  }
 },
 "nbformat": 4,
 "nbformat_minor": 2
}
